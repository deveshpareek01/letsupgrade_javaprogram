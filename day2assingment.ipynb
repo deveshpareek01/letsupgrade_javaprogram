{
 "cells": [
  {
   "cell_type": "markdown",
   "metadata": {},
   "source": [
    "# problem1"
   ]
  },
  {
   "cell_type": "code",
   "execution_count": 1,
   "metadata": {},
   "outputs": [
    {
     "name": "stdout",
     "output_type": "stream",
     "text": [
      "41\n",
      "45\n",
      "25\n",
      "63\n",
      "64\n",
      "22\n",
      "52\n",
      "42\n",
      "22\n",
      "24\n",
      "[64, 22, 52, 42, 22, 24]\n"
     ]
    }
   ],
   "source": [
    "a=[]\n",
    "for i in range(10):\n",
    "    b=int(input(\"\"))\n",
    "    if(b%2==0):\n",
    "        a.append(b)\n",
    "print(a)"
   ]
  },
  {
   "cell_type": "markdown",
   "metadata": {},
   "source": [
    "## problem 2"
   ]
  },
  {
   "cell_type": "code",
   "execution_count": 2,
   "metadata": {},
   "outputs": [
    {
     "name": "stdout",
     "output_type": "stream",
     "text": [
      "5\n",
      "<class 'int'>\n",
      "1\n",
      "2.3\n",
      "yoo\n",
      "[0, 0, 0, 0, 0, 0, 0, 0, 0, 0]\n",
      "[10, 2, 3, 4, 5]\n",
      "[10, 2, 3, 4, 5, 10]\n",
      "[10, 2, 3, 200, 4, 5, 10]\n",
      "[10, 2, 3, 4, 5, 10]\n",
      "[1, 2, 5, 4, 6, 6, 6]\n",
      "[1, 2, 3, 3, 3, 5, 4, 6, 6, 6, 3]\n",
      "[]\n",
      "[1, 2, 3, 3, 3, 3, 3, 4, 5, 6, 6, 6]\n",
      "[3, 3, 6, 6, 6, 4, 5, 3, 3, 3, 2, 1]\n",
      "[1, 2, 3, 4, 5, 100, 200, 300]\n"
     ]
    }
   ],
   "source": [
    "list1 = [1,2,3,4,5]\n",
    "print(len(list1)) \n",
    "r = list1[0]\n",
    "print(type(r))\n",
    "list2 = [1,2.3,\"yoo\"]\n",
    "for item in list2:\n",
    "    print(item)\n",
    "list1 = [0]*10\n",
    "print(list1)\n",
    "list3 = [1,2,3,4,5]\n",
    "list3[0] = 10\n",
    "print(list3)\n",
    "list3.append(10)\n",
    "print(list3)\n",
    "list3.insert(3,200)\n",
    "print(list3)\n",
    "list3.remove(200)\n",
    "print(list3)\n",
    "list4 = [1,2,3,3,3,5,4,6,6,6,3,3]\n",
    "list4.count(3)\n",
    "while(3 in list4):\n",
    "    list4.remove(3)\n",
    "print(list4)\n",
    "list5 = [1,2,3,3,3,5,4,6,6,6,3,3]\n",
    "list5.pop()\n",
    "print(list5)\n",
    "list6 = [1,2,3,3,3,5,4,6,6,6,3,3]\n",
    "list6.clear()\n",
    "print(list6)\n",
    "list7 = [1,2,3,3,3,5,4,6,6,6,3,3]\n",
    "list7.sort()\n",
    "print(list7) \n",
    "list8 = [1,2,3,3,3,5,4,6,6,6,3,3]\n",
    "list8.reverse()\n",
    "print(list8)\n",
    "list9=[1,2,3,4,5]\n",
    "list10=[100,200,300]\n",
    "for item in list10:\n",
    "    list9.append(item)\n",
    "print(list9)"
   ]
  },
  {
   "cell_type": "markdown",
   "metadata": {},
   "source": [
    "### problem 3"
   ]
  },
  {
   "cell_type": "code",
   "execution_count": 3,
   "metadata": {},
   "outputs": [
    {
     "name": "stdout",
     "output_type": "stream",
     "text": [
      "4\n",
      "{1: 1, 2: 4, 3: 9, 4: 16}\n"
     ]
    }
   ],
   "source": [
    "dict={}\n",
    "a=int(input(\"\"))\n",
    "for i in range(1,a+1):\n",
    "    dict.update({i:i*i})\n",
    "print(dict)"
   ]
  },
  {
   "cell_type": "markdown",
   "metadata": {},
   "source": [
    "#### problem 4"
   ]
  },
  {
   "cell_type": "code",
   "execution_count": 5,
   "metadata": {},
   "outputs": [
    {
     "name": "stdout",
     "output_type": "stream",
     "text": [
      "4\n",
      "UP 5\n",
      "DOWN 3\n",
      "LEFT 3\n",
      "RIGHT 2\n",
      "2\n"
     ]
    }
   ],
   "source": [
    "pos = {\"x\":0,\"y\":0}\n",
    "num = int(input())\n",
    "\n",
    "for _ in range (num):\n",
    "    command =  input().split(\" \")     \n",
    "    if command[0] == \"UP\":            \n",
    "        pos[\"y\"] += int(command[1])    \n",
    "    if command[0] == \"DOWN\":\n",
    "        pos[\"y\"] -= int(command[1])\n",
    "    if command[0] == \"LEFT\":\n",
    "        pos[\"x\"] -= int(command[1])\n",
    "    if command[0] == \"RIGHT\":\n",
    "        pos[\"x\"] += int(command[1])\n",
    "\n",
    "print(int(round((pos[\"x\"]**2 + pos[\"y\"]**2)**0.5)))"
   ]
  },
  {
   "cell_type": "code",
   "execution_count": null,
   "metadata": {},
   "outputs": [],
   "source": []
  }
 ],
 "metadata": {
  "kernelspec": {
   "display_name": "Python 3",
   "language": "python",
   "name": "python3"
  },
  "language_info": {
   "codemirror_mode": {
    "name": "ipython",
    "version": 3
   },
   "file_extension": ".py",
   "mimetype": "text/x-python",
   "name": "python",
   "nbconvert_exporter": "python",
   "pygments_lexer": "ipython3",
   "version": "3.8.3"
  }
 },
 "nbformat": 4,
 "nbformat_minor": 4
}
